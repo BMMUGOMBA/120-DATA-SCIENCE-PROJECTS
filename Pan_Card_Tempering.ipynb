{
 "cells": [
  {
   "cell_type": "markdown",
   "id": "82ed5997-f7fe-49b4-bf7c-011216b7c9e2",
   "metadata": {},
   "source": [
    "PAN CARD TEMPERING DETECTOR"
   ]
  },
  {
   "cell_type": "code",
   "execution_count": 1,
   "id": "13b66d94-7295-46eb-bde2-c078511ef066",
   "metadata": {},
   "outputs": [],
   "source": [
    "# import the necessary packages\n",
    "from skimage.metrics import structural_similarity\n",
    "import imutils\n",
    "import cv2\n",
    "from PIL import Image\n",
    "import requests"
   ]
  },
  {
   "cell_type": "code",
   "execution_count": 6,
   "id": "a99ec3ec-c4bf-4650-9b91-4f118f6e6a42",
   "metadata": {},
   "outputs": [],
   "source": [
    "!mkdir pan_card_tampering\n"
   ]
  },
  {
   "cell_type": "code",
   "execution_count": 8,
   "id": "80bf8876-be0e-4caa-a6a9-4a7c3572bb7c",
   "metadata": {},
   "outputs": [],
   "source": [
    "\n",
    "!mkdir pan_card_tampering\\image"
   ]
  },
  {
   "cell_type": "code",
   "execution_count": 9,
   "id": "37daf26e-30a9-49c4-abe1-211bfe013f3f",
   "metadata": {},
   "outputs": [],
   "source": [
    "# Open image and display\n",
    "original = Image.open(requests.get('https://www.thestatesman.com/wp-content/uploads/2019/07/pan-card.jpg', stream=True).raw)\n",
    "tampered = Image.open(requests.get('https://assets1.cleartax-cdn.com/s/img/20170526124335/Pan4.png', stream=True).raw) "
   ]
  },
  {
   "cell_type": "code",
   "execution_count": null,
   "id": "b2770d64-55fe-4718-847c-7e1f7de570fc",
   "metadata": {},
   "outputs": [],
   "source": []
  }
 ],
 "metadata": {
  "kernelspec": {
   "display_name": "Python 3 (ipykernel)",
   "language": "python",
   "name": "python3"
  },
  "language_info": {
   "codemirror_mode": {
    "name": "ipython",
    "version": 3
   },
   "file_extension": ".py",
   "mimetype": "text/x-python",
   "name": "python",
   "nbconvert_exporter": "python",
   "pygments_lexer": "ipython3",
   "version": "3.12.7"
  }
 },
 "nbformat": 4,
 "nbformat_minor": 5
}
